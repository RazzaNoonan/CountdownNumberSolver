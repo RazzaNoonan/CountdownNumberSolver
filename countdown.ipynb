{
 "cells": [
  {
   "cell_type": "markdown",
   "metadata": {},
   "source": [
    "<div style=\"text-align: center;\">    \n",
    "    <h1> Welcome to My Countdown Solver Project <h1>\n",
    "    <h3> By Ronan Noonan student number G00384824 </h3>\n",
    "    <h3> Atlantic Technological University >/h3\n",
    "</div>\n",
    "<hr>\n"
   ]
  },
  {
   "cell_type": "code",
   "execution_count": 628,
   "metadata": {},
   "outputs": [],
   "source": [
    "# Required Libraries for the Project\n",
    "import random\n",
    "import operator\n",
    "from itertools import product, permutations\n",
    "import time\n",
    "import tracemalloc\n",
    "import matplotlib.pyplot as plt"
   ]
  },
  {
   "cell_type": "markdown",
   "metadata": {},
   "source": [
    "<hr>\n",
    "<div style=\"text-align: center;\">\n",
    "    <h1> Introduction </h1>\n",
    "</div>\n",
    "\n",
    "Welcome to my computational investigation of the classic numbers game from *Countdown*. The goal is to share my experience approaching a real-world problem using algorithmic solutions, as well as to demonstrate my grasp and application of computational theory.\n"
   ]
  },
  {
   "cell_type": "markdown",
   "metadata": {},
   "source": [
    "#### Objectives\n",
    "\n",
    "The primary objectives of this project are to:\n",
    "\n",
    "1. **Identify difficult computational problems** inherent in everyday computing, exemplified by the Countdown numbers game.\n",
    "2. **Define the common models of computation** and discuss their relevance to solving the Countdown problem.\n",
    "3. **Design computer programs** that utilize a variety of computational paradigms to solve the numbers game.\n",
    "4. **Analyse the complexity of algorithms** designed to find solutions to the Countdown game, optimizing for efficiency and accuracy.\n",
    "\n",
    "These objectives guide the exploration of basic principles of computational problems, algorithmic design, complexity analysis, and practical implementation in Python. This paper documents my research and provides guidance for anyone interested in the computational aspects of the game.\n",
    "\n"
   ]
  },
  {
   "cell_type": "markdown",
   "metadata": {},
   "source": [
    "#### Approach\n",
    "To fully understand the computational challenges posed by the Countdown numbers game, it is essential to thoroughly examine its rules and structure while considering fundamental computation concepts such as Reverse Polish Notation, and Functional Programming. This involves integrating key concepts discussed in class, and reflecting on the performance and potential improvements of the solution developed."
   ]
  },
  {
   "cell_type": "markdown",
   "metadata": {},
   "source": [
    "<hr>\n",
    "<div style=\"text-align: center;\">\n",
    "    <h1> Understanding the Countdown Numbers Game </h1>\n",
    "</div>\n",
    "\n",
    "<div style=\"text-align: center;\">\n",
    "  <img src=\"./images/Countdown.png\" width=\"500\" height=\"300\" alt=\"Countdown Image\">\n",
    "</div>\n",
    "\n",
    "### Game Rules\n",
    "The Countdown Numbers Game is an exercise in numerical agility, where contestants must reach a target number using a combination of six chosen numbers through basic arithmetic operations. This game emphasizes precision and strategic thinking, adhering to rules that enforce single-use and whole number results.\n",
    "\n",
    "- **Number Selection**: Each contestant is given six numbers, chosen randomly from a predefined set. This set includes two groups of numbers:\n",
    "  - Small numbers: Two sets of the integers from 1 to 10.\n",
    "  - Large numbers: One set of the numbers 25, 50, 75, and 100.\n",
    "- **Target Number**: A random target number is generated, ranging from 101 to 999.\n",
    "- **Objective**: Using the six chosen numbers and the four basic arithmetic operations (addition, subtraction, multiplication, and division), contestants must reach the target number, or get as close as possible within 30 seconds.\n",
    "- **Constraints**:\n",
    "  - Each of the six numbers can be used at most once in the calculation.\n",
    "  - Operations must result in whole numbers. Fractions are not allowed.\n",
    "  - Only positive results are allowed for subtraction operations.\n",
    "\n",
    "The constraints on number use and operation types increase the computational difficulty, as they limit the possible permutations and combinations that can be used to reach the target number. This artificial constraint simulates a more complex problem-solving environment, requiring contestants—and algorithms—to optimize their strategy under strict conditions."
   ]
  },
  {
   "cell_type": "markdown",
   "metadata": {},
   "source": [
    "<a href=\"https://en.wikipedia.org/wiki/Countdown_(game_show)\" style=\"color: black;\">**(1) Understanding the Countdown Numbers Game** _wikipedia_</a>\n"
   ]
  },
  {
   "cell_type": "markdown",
   "metadata": {},
   "source": [
    "#### Computational Challenge\n",
    "\n",
    "The Countdown Numbers Game combines elements of math puzzles and strategic game play. Simon Colton's work on the automated solution of these games provides how computational methods can be adapted to handle complex real-world problems. Colton used a system called HR3 Automated Theory Formation to generate solutions for nearly 12 million instances of the game, analyzing puzzle difficulty and suggesting enhancements for game design. This methodology highlighted the importance of generating comprehensive solutions that consider every possible permutation of number and operation to ensure optimal outcomes. The insights from his analysis have helped to shape the algorithms used in this project, emphasizing the need for a robust solution space exploration and the application of efficient search techniques to navigate the vast possibilities presented by the game."
   ]
  },
  {
   "cell_type": "markdown",
   "metadata": {},
   "source": [
    "<a href=\"https://doc.gold.ac.uk/aisb50/AISB50-S02/AISB50-S2-Colton-paper.pdf\" style=\"color: black;\">**(2) Countdown Numbers Game: Solved, Analysed, Extended** _Simon Colton_</a>\n"
   ]
  },
  {
   "cell_type": "markdown",
   "metadata": {},
   "source": [
    "#### The Task at Hand\n",
    "\n",
    "The main goal is to create and refine an algorithm that can successfully tackle the Countdown numbers game. This task unfolds across three key activities:\n",
    "\n",
    "1. **Generating Possible Solutions**: Exploring the space of possible arithmetic operations that can be performed with the given numbers. This involves not just finding any solution but identifying the most optimal one, guided by the techniques discussed in Simon Colton’s research.\n",
    "2. **Evaluating Solutions**: Assessing each potential solution to determine if it meets the target number or comes closest to it. The evaluation also considers the computational efficiency of each solution, prioritizing those that utilize fewer steps or simpler calculations.\n",
    "3. **Optimizing Performance**: Considering the computational complexity of the problem, finding efficient algorithms is crucial to solving the game within a reasonable time frame. This includes implementing strategies like memoization and dynamic programming to enhance performance without sacrificing accuracy.\n",
    "   "
   ]
  },
  {
   "cell_type": "markdown",
   "metadata": {},
   "source": [
    "<hr>\n",
    "<div style=\"text-align: center;\">\n",
    "    <h1> Theoretical Framework </h1>\n",
    "</div>\n",
    "This section looks into the theoretical concepts and computational procedures that form the foundation of the approach to solving the Countdown Numbers Game. Understanding these models aids in creating efficient algorithms and clarifies the computational reasoning involved.\n",
    "\n",
    "### Common Models of Computation:\n",
    "**1. Reverse Polish Notation (RPN):** RPN is a mathematical notation wherein every operator follows all of its operands, eliminating the need for the parentheses required by infix notation. Utilizing RPN simplifies the computational process in the project by enabling direct evaluation of expressions through a stack-based method. This is particularly advantageous in environments that support stack operations, which enhance straightforward arithmetic computations. In tackling the Countdown game, implementing RPN allowed for rapid computation and easy manipulation of numbers and operations, significantly reducing complexity and execution time of the algorithm, especially in dynamically generating and assessing potential solutions under the game’s tight constraints.\n",
    "\n",
    "**2. Functional Programming:** This approach focuses on using functions that don't change state or mutable data, making it ideal for handling the Countdown game's complex state-dependent calculations. Focusing on pure functions ensures that the solution tool has no side effects, which simplifies testing and debugging. Functional programming also facilitates high-level operations like map and reduce, elegantly describing making combinations and comparing them to the goal number.\n",
    "\n",
    "By integrating Reverse Polish Notation and functional programming principles, the algorithm not only enhances computational efficiency but also ensures stability and maintainability. These approaches are particularly effective in handling the complex and dynamic challenges presented by the Countdown Numbers Game. Further exploration will reveal how these implemented models simplify the problem-solving process and contribute to the robustness of the solution.\n"
   ]
  },
  {
   "cell_type": "markdown",
   "metadata": {},
   "source": [
    "<a href=\"https://mathworld.wolfram.com/ReversePolishNotation.html\" style=\"color: black;\">**(3) Reverse Polish Notation** _Wolfram MathWorld_</a> \n",
    "<br>\n",
    "<a href=\"https://www.freecodecamp.org/news/an-introduction-to-the-basic-principles-of-functional-programming-a2c2a15c84/\" style=\"color: black;\">**(4) An Introduction to the basic principles of Functional Programming** _freecodecamp_</a>\n",
    "\n",
    "   "
   ]
  },
  {
   "cell_type": "markdown",
   "metadata": {},
   "source": [
    "#### Computational Complexity of the Game\n",
    "The Countdown Numbers Game's complexity is significant due to its similarities with the NP-hard subset sum problem . This complexity comes from the need to investigate several number and operation combinations in order to get a desired number.\n",
    "\n",
    "In computational theory, a subset sum problem is an NP-hard problem if it is as tricky as the most complex problems in NP and there isn't an effective solution for every scenario. This illustrates the difficulty of such challenges by being similar to the Countdown challenge, in which participants use particular numbers and processes to attain an objective.\n",
    "\n",
    "1. **Brute Force Approach:** The simplest approach would assess each possible combination of operations between the selected numbers. The more numbers or operations added, the more computationally demanding this strategy becomes.\n",
    "\n",
    "2. **Optimized Techniques:** Algorithms can use techniques like backtracking to remove unfavourable paths and strategic rules to rank operations in order of potential speed at which the goal number can be reached to manage complexity efficiently.\n",
    "   \n",
    "3. **Practical Efficiency:** Balancing computational complexity with practical execution times is essential. Techniques such as memoization or dynamic programming optimize calculations by storing intermediate results for reuse, thereby enhancing performance.\n",
    "\n",
    "Understanding the computational complexity is important as it influences algorithm design, ensuring that the algorithms are both successful and efficient. It draws attention to the need for calculated strategic adjustments that reduce the difficulty of playing the Countdown game to a manageable task with realistic time constraints. As we move forward, these insights will guide the development of the solve_numbers function, ensuring it is both theoretically sound but also practically viable."
   ]
  },
  {
   "cell_type": "markdown",
   "metadata": {},
   "source": [
    "<a href=\"https://doc.gold.ac.uk/aisb50/AISB50-S02/AISB50-S2-Colton-paper.pdf\" style=\"color: black;\">**(2) Countdown Numbers Game: Solved, Analysed, Extended** _Simon Colton_</a>\n",
    "<br>\n",
    "<a href=\"https://en.wikipedia.org/wiki/NP-hardness\" style=\"color: black;\">**(5) NP-hard and the subset sum problem** _Wikipedia_</a> \n",
    "<br>\n",
    "<a href=\"https://www.geeksforgeeks.org/backtracking-algorithms/\" style=\"color: black;\">**(6) NP-hard and the subset sum problem** _GeeksForGeeks_</a> \n",
    "<a href=\"https://www.ttested.com/polish-countdown/\" style=\"color: black;\">**(7) A Polish Approach to Countdown** _Tested_</a> \n"
   ]
  },
  {
   "cell_type": "markdown",
   "metadata": {},
   "source": [
    "<hr>\n",
    "<div style=\"text-align: center;\">    \n",
    "    <h1> Approach and Methodology </h1>\n",
    "</div>\n",
    "In order to solve the Countdown numbers game its important to look at the algorithmic foundations for the solve_numbers. Outlining the transition of the game into a digital algorithm, highlight key input parameters, and talk about how functional programming was used in conjunction with Reverse Polish Notation (RPN) to come up with a workable solution."
   ]
  },
  {
   "cell_type": "markdown",
   "metadata": {},
   "source": [
    "#### Translating Countdown to a Program\n",
    "#### Input Parameters\n",
    "\n",
    "* **Number Selection:** The method chooses numbers at random from the number pools, which include tiny numbers (two sets of 1–10) and large numbers (25, 50, 75, 100). This can be changed, although often it has two big numerals and four little numbers.\n",
    "* **Target Number Generation:** The target number, which provides the algorithm's objective, is created at random from 101 to 999."
   ]
  },
  {
   "cell_type": "code",
   "execution_count": 629,
   "metadata": {},
   "outputs": [
    {
     "name": "stdout",
     "output_type": "stream",
     "text": [
      "Selected numbers: [1, 8, 4, 9, 75, 25]\n",
      "Target number: 298\n"
     ]
    }
   ],
   "source": [
    "# Function to select numbers\n",
    "def select_numbers():\n",
    "    small_numbers = [i for i in range(1, 11) for _ in range(2)]  # Small numbers twice\n",
    "    large_numbers = [25, 50, 75, 100]  # Large numbers once\n",
    "\n",
    "    chosen_small = random.sample(small_numbers, 4)\n",
    "    chosen_large = random.sample(large_numbers, 2)\n",
    "\n",
    "    return chosen_small + chosen_large\n",
    "\n",
    "# Function to generate target number\n",
    "def generate_target():\n",
    "    return random.randint(101, 999)\n",
    "\n",
    "# Example of selecting numbers and generating target\n",
    "numbers = select_numbers()\n",
    "target = generate_target()\n",
    "print(\"Selected numbers:\", numbers)\n",
    "print(\"Target number:\", target)\n"
   ]
  },
  {
   "cell_type": "markdown",
   "metadata": {},
   "source": [
    "#### Game Rules\n",
    "* **Single Use of Numbers:** There is only one usage of each number in the calculation.\n",
    "* **Valid Operations:** The operations allowed are addition, subtraction (only positive results), and multiplication, along with division (integral results only)."
   ]
  },
  {
   "cell_type": "markdown",
   "metadata": {},
   "source": [
    "### Leveraging Computational Models\n",
    "#### Functional Programming\n",
    "Enhances code maintainability and readability by using immutable data structures and higher-order functions, which simplify data manipulation and reduce side effects. This approach is crucial for ensuring that the function operations remain pure and predictable, particularly when handling complex game state calculations."
   ]
  },
  {
   "cell_type": "code",
   "execution_count": 630,
   "metadata": {},
   "outputs": [
    {
     "name": "stdout",
     "output_type": "stream",
     "text": [
      "Doubled numbers: [2, 16, 8, 18, 150, 50]\n"
     ]
    }
   ],
   "source": [
    "# Example of using map (a higher-order function) to apply a function to numbers\n",
    "numbers_doubled = list(map(lambda x: x * 2, numbers))\n",
    "print(\"Doubled numbers:\", numbers_doubled)\n"
   ]
  },
  {
   "cell_type": "markdown",
   "metadata": {},
   "source": [
    "#### Reverse Polish Notation\n",
    "This notation removes the complexity of operator precedence and parenthetical grouping by using a stack-based evaluation method, significantly simplifying the parsing and computation of mathematical expressions. Implementing RPN allows for efficient, left-to-right processing of operations, which is particularly advantageous in real-time game scenarios where rapid calculation is necessary."
   ]
  },
  {
   "cell_type": "code",
   "execution_count": 631,
   "metadata": {},
   "outputs": [],
   "source": [
    "def evaluate_rpn(expression):\n",
    "    stack = []\n",
    "    for token in expression.split():\n",
    "        if token in \"+-*/\":\n",
    "            b, a = stack.pop(), stack.pop()\n",
    "            stack.append({\n",
    "                '+': lambda x, y: x + y,\n",
    "                '-': lambda x, y: x - y,\n",
    "                '*': lambda x, y: x * y,\n",
    "                '/': lambda x, y: x // y\n",
    "            }[token](a, b))\n",
    "        else:\n",
    "            stack.append(int(token))\n",
    "    return stack.pop()"
   ]
  },
  {
   "cell_type": "markdown",
   "metadata": {},
   "source": [
    "<a href=\"https://www.ttested.com/polish-countdown/\" style=\"color: black;\">**(7) A Polish Approach to Countdown** _Tested_</a> "
   ]
  },
  {
   "cell_type": "markdown",
   "metadata": {},
   "source": [
    "#### Algorithm Design\n",
    "The core algorithm, solve_numbers, integrates these models to create a modular and reusable system that effectively addresses the computational challenges of the Countdown game. It combines the rapid computation capabilities of RPN with the robustness of functional programming to explore all potential solutions efficiently. Key optimization techniques such as early termination and validation of sequences ensure that resources are conserved, and computational efficiency is maximized.\n",
    "\n",
    "#### Theory to Practice\n",
    "This methodology ensures that the approach is not only theoretically sound but also practically viable, reflecting a deep integration of computational theory with real-world application. As such, it aligns perfectly with the project's objectives to solve the Countdown numbers game efficiently."
   ]
  },
  {
   "cell_type": "markdown",
   "metadata": {},
   "source": [
    "<hr>\n",
    "<div style=\"text-align: center;\">\n",
    "    <h1> Constructing the solve_numbers Function for the Countdown Game <h1>\n",
    "</div>\n",
    "In order to effectively solve the Countdown numbers game, a function called solve_numbers is constructed using principles of Reverse Polish Notation (RPN) and careful operation validation. This function integrates with the broader goals of the project by addressing complex computational problems, exploring different models of computation, and applying functional programming principles."
   ]
  },
  {
   "cell_type": "markdown",
   "metadata": {},
   "source": [
    "#### Background and Relevance to Project Objectives\n",
    "The method for resolving the Countdown numbers game, a real-world problem that requires choosing numbers and operations to attain a target number, is encapsulated in the solve_numbers function. The computational difficulties covered in the project, such as algorithm design, complexity analysis, and the use of computational theory in real-world contexts, are best illustrated by this game.\n",
    "\n"
   ]
  },
  {
   "cell_type": "markdown",
   "metadata": {},
   "source": [
    "#### Functional Requirements\n",
    "* **Number and Operation Handling:** The function must handle numbers and arithmetic operations according to the game's rules — using each number at most once and ensuring operations yield whole numbers.\n",
    "* **Reverse Polish Notation:** By using RPN, we simplify the computation process by eliminating the need for parentheses and managing the order of operations directly through a stack-based approach.\n",
    "* **Valid Operations:** Ensure that operations adhere to game rules, such as preventing division by zero and ensuring no negative numbers from subtraction."
   ]
  },
  {
   "cell_type": "markdown",
   "metadata": {},
   "source": [
    "#### Code Implementation\n",
    "**Define Operators and Utility Functions**\n",
    "First, define a dictionary of operations and a function to check the validity of these operations during computation. This step ensures that the function obeys the Countdown game's rules."
   ]
  },
  {
   "cell_type": "code",
   "execution_count": 633,
   "metadata": {},
   "outputs": [],
   "source": [
    "# Define operations for easy use in RPN evaluations\n",
    "OPERATORS = {\n",
    "    '+': operator.add,\n",
    "    '-': operator.sub,\n",
    "    '*': operator.mul,\n",
    "    '/': operator.floordiv  # Ensures integer division, avoids floating point results\n",
    "}\n",
    "\n",
    "# Function to check the validity of an operation (avoiding invalid math like division by zero)\n",
    "def valid_operation(op, a, b):\n",
    "    if op == '/' and (b == 0 or a % b != 0):\n",
    "        return False\n",
    "    if op == '-' and (a - b < 0):\n",
    "        return False\n",
    "    return True"
   ]
  },
  {
   "cell_type": "markdown",
   "metadata": {},
   "source": [
    "**Evaluate RPN Expressions**\n",
    "A function to evaluate expressions in Reverse Polish Notation. This function uses a stack to manage operands and apply operations in the correct sequence."
   ]
  },
  {
   "cell_type": "code",
   "execution_count": 634,
   "metadata": {},
   "outputs": [],
   "source": [
    "# Function to evaluate an RPN expression\n",
    "def evaluate_rpn(expression):\n",
    "    stack = []\n",
    "    for token in expression.split():\n",
    "        if token in OPERATORS:\n",
    "            b, a = stack.pop(), stack.pop()\n",
    "            if not valid_operation(OPERATORS[token], a, b):\n",
    "                return None  # Skip invalid operations\n",
    "            result = OPERATORS[token](a, b)\n",
    "            stack.append(result)\n",
    "        else:\n",
    "            stack.append(int(token))\n",
    "    return stack.pop() if stack else None\n"
   ]
  },
  {
   "cell_type": "markdown",
   "metadata": {},
   "source": [
    "**Generate Valid RPN Expressions**\n",
    "Generate possible RPN expressions that conform to the structure of Reverse Polish Notation and the game's constraints."
   ]
  },
  {
   "cell_type": "code",
   "execution_count": 635,
   "metadata": {},
   "outputs": [],
   "source": [
    "# Function to generate all valid RPN expressions\n",
    "def generate_rpn_expressions(numbers):\n",
    "    operators = list(OPERATORS.keys())\n",
    "    for num_perm in permutations(numbers):\n",
    "        for ops_perm in product(operators, repeat=len(numbers)-1):\n",
    "            expression = []\n",
    "            num_index = 0\n",
    "            ops_index = 0\n",
    "            stack_depth = 0\n",
    "\n",
    "            while num_index < len(num_perm) and ops_index < len(ops_perm):\n",
    "                expression.append(str(num_perm[num_index]))\n",
    "                num_index += 1\n",
    "                stack_depth += 1\n",
    "\n",
    "                while stack_depth > 1 and ops_index < len(ops_perm):\n",
    "                    expression.append(ops_perm[ops_index])\n",
    "                    ops_index += 1\n",
    "                    stack_depth -= 1\n",
    "\n",
    "            # Add remaining numbers if any\n",
    "            while num_index < len(num_perm):\n",
    "                expression.append(str(num_perm[num_index]))\n",
    "                num_index += 1\n",
    "\n",
    "            # Valid RPN should end with exactly one element in stack\n",
    "            if stack_depth == 1:\n",
    "                yield ' '.join(expression)"
   ]
  },
  {
   "cell_type": "markdown",
   "metadata": {},
   "source": [
    "**Main solve_numbers Function**\n",
    "Integrates all components, attempts to find a valid solution that matches the target number."
   ]
  },
  {
   "cell_type": "code",
   "execution_count": 636,
   "metadata": {},
   "outputs": [],
   "source": [
    "# Main function to solve the Countdown numbers game\n",
    "def solve_numbers(numbers, target):\n",
    "    valid_solutions = []\n",
    "    for expr in generate_rpn_expressions(numbers):\n",
    "        result = evaluate_rpn(expr)\n",
    "        if result == target:\n",
    "            valid_solutions.append(expr)\n",
    "            break  # Stops after finding the first solution\n",
    "\n",
    "    if valid_solutions:\n",
    "        print(f\"Solution found: Evaluates to {target}\")\n",
    "        for solution in valid_solutions:\n",
    "            print(f\"RPN Expression: {solution}\")\n",
    "    else:\n",
    "        print(\"No solution found.\")\n",
    "    return valid_solutions"
   ]
  },
  {
   "cell_type": "markdown",
   "metadata": {},
   "source": [
    "**Testing the Function**\n",
    "To ensure the function works as intended, let's apply it to a typical set of numbers and a target from the game:"
   ]
  },
  {
   "cell_type": "code",
   "execution_count": 637,
   "metadata": {},
   "outputs": [
    {
     "name": "stdout",
     "output_type": "stream",
     "text": [
      "Testing specific case: [3, 7, 15, 25, 50, 75], Target: 834\n",
      "Solution found: Evaluates to 834\n",
      "RPN Expression: 15 3 - 25 + 75 + 7 * 50 +\n"
     ]
    },
    {
     "data": {
      "text/plain": [
       "['15 3 - 25 + 75 + 7 * 50 +']"
      ]
     },
     "execution_count": 637,
     "metadata": {},
     "output_type": "execute_result"
    }
   ],
   "source": [
    "# Example usage\n",
    "numbers = [3, 7, 15, 25, 50, 75]\n",
    "target = 834\n",
    "print(\"Testing specific case: \" + str(numbers) + \", Target: \" + str(target))\n",
    "solve_numbers(numbers, target)"
   ]
  },
  {
   "cell_type": "markdown",
   "metadata": {},
   "source": [
    "<hr> \n",
    "<div style=\"text-align: center;\">\n",
    "    <h1> Optimization and Performance Analysis\n",
    "</div>\n",
    "### Performance Metrics\n",
    "\n",
    "1. **Execution Time**: Measure how long your function takes to find a solution (or determine that no solution exists) for different sets of numbers and target numbers. This can help identify any bottlenecks in your algorithm.\n",
    "\n",
    "2. **Memory Usage**: Track the memory consumption during the execution of your function. This is particularly important as the generation of permutations and combinations can be memory-intensive.\n",
    "\n",
    "### Collecting Performance Data\n",
    "\n",
    "To analyze performance, we will measure the execution time and memory usage of the `solve_numbers` function under different scenarios. We'll use varying sizes of input sets and a range of target numbers to understand how our algorithm scales."
   ]
  },
  {
   "cell_type": "code",
   "execution_count": 638,
   "metadata": {},
   "outputs": [],
   "source": [
    "\n",
    "def measure_performance(function, numbers, target):\n",
    "    tracemalloc.start()\n",
    "    start_time = time.time()\n",
    "    function(numbers, target)\n",
    "    execution_time = time.time() - start_time\n",
    "    _, peak = tracemalloc.get_traced_memory()\n",
    "    tracemalloc.stop()\n",
    "    return execution_time, peak / 10**6  # Convert bytes to megabytes\n",
    "\n",
    "\n",
    "def collect_data(function, num_trials=10, max_numbers=10):\n",
    "    results = []\n",
    "    for n in range(2, max_numbers + 1):\n",
    "        avg_exec_time = 0\n",
    "        avg_memory = 0\n",
    "        for _ in range(num_trials):\n",
    "            numbers = [random.randint(1, 100) for _ in range(n)]\n",
    "            target = random.randint(101, 999)\n",
    "            exec_time, memory = measure_performance(function, numbers, target)\n",
    "            avg_exec_time += exec_time\n",
    "            avg_memory += memory\n",
    "        \n",
    "        # Averaging the execution time and memory usage over the number of trials\n",
    "        avg_exec_time /= num_trials\n",
    "        avg_memory /= num_trials\n",
    "\n",
    "        results.append((n, avg_exec_time, avg_memory))  # Keeping memory in MB without additional conversion\n",
    "    return results\n"
   ]
  },
  {
   "cell_type": "markdown",
   "metadata": {},
   "source": [
    "Creating line graphs to visualize how execution time and memory usage scale with the complexity of the input."
   ]
  },
  {
   "cell_type": "code",
   "execution_count": 639,
   "metadata": {},
   "outputs": [],
   "source": [
    "def plot_data(results):\n",
    "    sizes = [x[0] for x in results]\n",
    "    times = [x[1] for x in results]\n",
    "    memories = [x[2] for x in results]\n",
    "\n",
    "    plt.figure(figsize=(14, 7))\n",
    "\n",
    "    plt.subplot(1, 2, 1)\n",
    "    plt.plot(sizes, times, marker='o', linestyle='-', color='blue')\n",
    "    plt.title('Execution Time vs Number of Numbers')\n",
    "    plt.xlabel('Number of Numbers')\n",
    "    plt.ylabel('Execution Time (seconds)')\n",
    "    plt.grid(True)\n",
    "\n",
    "    plt.subplot(1, 2, 2)\n",
    "    plt.plot(sizes, memories, marker='o', linestyle='-', color='red')\n",
    "    plt.title('Memory Usage vs Number of Numbers')\n",
    "    plt.xlabel('Number of Numbers')\n",
    "    plt.ylabel('Memory Usage (MB)')\n",
    "    plt.grid(True)\n",
    "\n",
    "    plt.tight_layout()\n"
   ]
  },
  {
   "cell_type": "code",
   "execution_count": 640,
   "metadata": {},
   "outputs": [
    {
     "name": "stdout",
     "output_type": "stream",
     "text": [
      "No solution found for target: 857\n",
      "No solution found for target: 815\n",
      "No solution found for target: 166\n",
      "No solution found for target: 934\n",
      "No solution found for target: 609\n",
      "No solution found for target: 518\n",
      "No solution found for target: 681\n",
      "No solution found for target: 439\n",
      "No solution found for target: 239\n",
      "No solution found for target: 640\n",
      "No solution found for target: 780\n",
      "No solution found for target: 250\n",
      "No solution found for target: 934\n",
      "No solution found for target: 245\n",
      "No solution found for target: 562\n",
      "No solution found for target: 250\n",
      "No solution found for target: 346\n",
      "No solution found for target: 243\n",
      "No solution found for target: 857\n",
      "No solution found for target: 932\n",
      "No solution found for target: 896\n",
      "No solution found for target: 931\n",
      "Solution found: 68 4 * 50 / 55 * evaluates to 275\n",
      "No solution found for target: 626\n",
      "No solution found for target: 221\n",
      "No solution found for target: 921\n",
      "No solution found for target: 694\n",
      "No solution found for target: 493\n",
      "No solution found for target: 870\n",
      "No solution found for target: 241\n",
      "Solution found: 82 47 + 74 * 40 / 96 + evaluates to 334\n",
      "Solution found: 82 94 * 56 / 4 - 7 * evaluates to 931\n",
      "Solution found: 4 59 + 62 + 31 + 84 + evaluates to 240\n",
      "No solution found for target: 903\n"
     ]
    },
    {
     "name": "stdout",
     "output_type": "stream",
     "text": [
      "No solution found for target: 272\n",
      "No solution found for target: 596\n",
      "No solution found for target: 654\n",
      "Solution found: 78 74 * 100 - 17 / 54 - evaluates to 279\n",
      "No solution found for target: 500\n",
      "No solution found for target: 750\n",
      "No solution found for target: 833\n",
      "No solution found for target: 983\n",
      "No solution found for target: 200\n",
      "No solution found for target: 676\n",
      "No solution found for target: 950\n",
      "No solution found for target: 997\n",
      "No solution found for target: 945\n",
      "No solution found for target: 811\n",
      "No solution found for target: 114\n",
      "No solution found for target: 677\n",
      "No solution found for target: 978\n",
      "No solution found for target: 860\n",
      "No solution found for target: 863\n",
      "No solution found for target: 156\n",
      "No solution found for target: 108\n",
      "No solution found for target: 451\n",
      "No solution found for target: 721\n",
      "No solution found for target: 356\n",
      "No solution found for target: 444\n",
      "No solution found for target: 738\n",
      "No solution found for target: 158\n",
      "No solution found for target: 546\n",
      "No solution found for target: 190\n",
      "No solution found for target: 927\n",
      "No solution found for target: 333\n",
      "No solution found for target: 218\n",
      "No solution found for target: 808\n",
      "No solution found for target: 815\n",
      "No solution found for target: 564\n",
      "No solution found for target: 731\n",
      "No solution found for target: 696\n",
      "No solution found for target: 855\n",
      "No solution found for target: 852\n",
      "Solution found: 70 82 + 100 * 72 - 66 / evaluates to 229\n",
      "No solution found for target: 275\n",
      "Solution found: 88 7 * 66 * 9 - 47 / evaluates to 864\n",
      "Solution found: 56 45 / 32 + 15 * 29 + evaluates to 524\n",
      "No solution found for target: 962\n",
      "No solution found for target: 110\n",
      "No solution found for target: 710\n"
     ]
    },
    {
     "data": {
      "image/png": "[encoded data removed]",
      "text/plain": [
       "<Figure size 1400x700 with 2 Axes>"
      ]
     },
     "metadata": {},
     "output_type": "display_data"
    }
   ],
   "source": [
    "def solve_numbers(numbers, target, file=None):\n",
    "    valid_solutions = []\n",
    "    for expr in generate_rpn_expressions(numbers):\n",
    "        result = evaluate_rpn(expr)\n",
    "        if result == target:\n",
    "            valid_solutions.append(expr)\n",
    "            message = f\"Solution found: {expr} evaluates to {result}\"\n",
    "            print(message)\n",
    "            if file:\n",
    "                file.write(message + \"\\n\")\n",
    "            break  # Find the first solution and stop\n",
    "    if not valid_solutions:\n",
    "        message = f\"No solution found for target: {target}\"\n",
    "        print(message)\n",
    "        if file:\n",
    "            file.write(message + \"\\n\")\n",
    "    return valid_solutions\n",
    "\n",
    "# Collect data using the dummy function\n",
    "results = collect_data(solve_numbers, num_trials=10, max_numbers=5)  # Reduced max_numbers for quicker testing\n",
    "\n",
    "# Usage with file logging\n",
    "with open('solution_logs.txt', 'w') as log_file:\n",
    "    results = collect_data(lambda nums, tgt: solve_numbers(nums, tgt, file=log_file), num_trials=10, max_numbers=5)\n",
    "\n",
    "# Plot the collected data\n",
    "plot_data(results)"
   ]
  },
  {
   "cell_type": "markdown",
   "metadata": {},
   "source": [
    "<!-- From the analysis, its clear how the complexity of the input impacts both the execution time and the memory usage of our algorithm. These insights are crucial for understanding the scalability of our solution and for identifying potential areas for optimization, such as the use of more efficient data structures or algorithms. -->"
   ]
  },
  {
   "cell_type": "markdown",
   "metadata": {},
   "source": [
    "<hr>\n",
    "<div style=\"text-align: center;\">\n",
    "    <h1> <span style=\"color: black;\">References</span>\n",
    "</div>\n",
    "\n",
    "1. https://en.wikipedia.org/wiki/Countdown_(game_show) <span style=\"color: black;\">Understanding the Countdown Numbers Game</span>\n",
    "2. https://doc.gold.ac.uk/aisb50/AISB50-S02/AISB50-S2-Colton-paper.pdf <span style=\"color: black;\">Countdown Numbers Game: Solved, Analysed, Extended</span>\n",
    "3. mathworld.wolfram.com/ReversePolishNotation.html <span style=\"color: black;\">Reverse Polish Notation</span>\n",
    "4. https://www.freecodecamp.org/news/an-introduction-to-the-basic-principles-of-functional-programming-a2c2a15c84/ <span style=\"color: black;\">An Introduction to the basic principles of Functional Programming</span>\n",
    "5. https://en.wikipedia.org/wiki/NP-hardness <span style=\"color: black;\">NP-hard and the subset sum problem</span>\n",
    "6. https://www.geeksforgeeks.org/backtracking-algorithms/ <span style=\"color: black;\"><span style=\"color: black;\">NP-hard and the subset sum problem</span></span>\n",
    "7. https://www.ttested.com/polish-countdown/ <span style=\"color: black;\"><span style=\"color: black;\">A Polish Approach to Countdown</span></span>\n",
    "\n",
    "\n"
   ]
  }
 ],
 "metadata": {
  "kernelspec": {
   "display_name": "base",
   "language": "python",
   "name": "python3"
  },
  "language_info": {
   "codemirror_mode": {
    "name": "ipython",
    "version": 3
   },
   "file_extension": ".py",
   "mimetype": "text/x-python",
   "name": "python",
   "nbconvert_exporter": "python",
   "pygments_lexer": "ipython3",
   "version": "3.11.7"
  }
 },
 "nbformat": 4,
 "nbformat_minor": 2
}
