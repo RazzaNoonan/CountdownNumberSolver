{
 "cells": [
  {
   "cell_type": "markdown",
   "metadata": {},
   "source": [
    "# Welcome to My Countdown Solver Project\n",
    "### By Ronan Noonan student number G00384824 \n",
    "### Atlantic Technological University \n",
    "<hr>"
   ]
  },
  {
   "cell_type": "markdown",
   "metadata": {},
   "source": [
    "## Introduction\n",
    "\n",
    "This project aims to design and implement a Python program capable of solving the \"Numbers Round\" in the television show Countdown. It explores computational theories and paradigms with the objective to recognize and address difficult computational problems, define models of computation, and create effective algorithms.\n",
    "<hr>\n"
   ]
  },
  {
   "cell_type": "markdown",
   "metadata": {},
   "source": [
    "### Objectives\n",
    "\n",
    "- **Identify computational challenges** presented by the Countdown numbers game.\n",
    "- **Define common models of computation** that apply to solving the game.\n",
    "- **Design and implement algorithms** to find solutions to the game's challenges.\n",
    "- **Analyse the complexity** of these algorithms, providing insights into their efficiency and scalability."
   ]
  },
  {
   "cell_type": "markdown",
   "metadata": {},
   "source": [
    "## Understanding the Countdown Numbers Game\n",
    "The Countdown Numbers Game is an exercise in numerical agility, where contestants must reach a target number using a combination of six chosen numbers through basic arithmetic operations, adhering to the rules of single-use and whole number results."
   ]
  },
  {
   "cell_type": "markdown",
   "metadata": {},
   "source": [
    "### Theoretical Framework\n",
    "#### Common Models of Computation:\n",
    "Turing machines, finite automata, and the lambda calculus are examples of computation models that provide a theoretical foundation for understanding computational processes and their limitations. These models help in analyzing the computability and complexity of problems like the Countdown numbers game.\n"
   ]
  },
  {
   "cell_type": "markdown",
   "metadata": {},
   "source": [
    "#### Computational Complexity of the Game\n",
    "\n",
    "The computational complexity of the Countdown numbers game can be considered in terms of the number of possible operations and combinations of numbers. This section will delve into the complexity analysis, exploring the space and time complexity of potential solutions.\n"
   ]
  },
  {
   "cell_type": "markdown",
   "metadata": {},
   "source": [
    "### Literature Review and Research\n",
    "\n",
    "#### History and Cultural Significance\n",
    "\n",
    "Countdown, as one of the longest-running television game shows, has a rich history and a significant cultural impact. This section will briefly cover the origin of the game and its importance in popular culture.\n"
   ]
  },
  {
   "cell_type": "markdown",
   "metadata": {},
   "source": [
    "#### Previous Approaches\n",
    "\n",
    "This part of the project reviews existing literature and solutions related to the Countdown numbers game, focusing on computational methods and algorithms that have been previously proposed.\n"
   ]
  },
  {
   "cell_type": "markdown",
   "metadata": {},
   "source": [
    "#### Building on Existing Work\n",
    "\n",
    "Here, we will discuss how this project builds upon or diverges from existing approaches, highlighting any novel contributions or optimizations.\n"
   ]
  },
  {
   "cell_type": "markdown",
   "metadata": {},
   "source": [
    "### Algorithm Design and Implementation\n",
    "\n",
    "#### Algorithmic Strategies Considered\n",
    "\n",
    "This section outlines the algorithmic strategies considered for solving the Countdown numbers game, including brute force approaches, optimization techniques, and any innovative algorithms developed specifically for this project.\n"
   ]
  },
  {
   "cell_type": "code",
   "execution_count": 4,
   "metadata": {},
   "outputs": [
    {
     "name": "stdout",
     "output_type": "stream",
     "text": [
      "Trying to reach 952 using numbers [1, 3, 25, 50, 75, 100]:\n",
      "Solution: None\n",
      "\n",
      "Trying to reach 556 using numbers [2, 4, 6, 8, 10, 100]:\n",
      "Solution: None\n",
      "\n",
      "None\n"
     ]
    }
   ],
   "source": [
    "# Python function to implement the solve_numbers logic\n",
    "def solve_numbers(numbers, target):\n",
    "    \"\"\"\n",
    "    This function attempts to find a combination of the given numbers using arithmetic operations\n",
    "    to reach the target number. If a solution exists, it returns a representation of the solution;\n",
    "    otherwise, it returns None.\n",
    "    \n",
    "    Parameters:\n",
    "    - numbers: List[int], the six numbers available to use.\n",
    "    - target: int, the target number to reach.\n",
    "    \n",
    "    Returns:\n",
    "    - A string representation of the solution, or None if no solution is found.\n",
    "    \"\"\"\n",
    "    \n",
    "    # [Implementation of the algorithm will be added here]\n",
    "\n",
    "    return None  # Placeholder return\n",
    "\n",
    "# Test cases for the solve_numbers function\n",
    "test_cases = [\n",
    "    ([1, 3, 25, 50, 75, 100], 952),\n",
    "    ([2, 4, 6, 8, 10, 100], 556),\n",
    "    # Additional test cases will be added here\n",
    "]\n",
    "\n",
    "for numbers, target in test_cases:\n",
    "    print(f\"Trying to reach {target} using numbers {numbers}:\")\n",
    "    solution = solve_numbers(numbers, target)\n",
    "    print(f\"Solution: {solution}\\n\")\n",
    "\n",
    "# Example usage\n",
    "# This will be replaced with actual numbers in tests\n",
    "numbers_list = [1, 2, 3, 4, 5, 6]\n",
    "target_number = 100\n",
    "print(solve_numbers(numbers_list, target_number))\n"
   ]
  },
  {
   "cell_type": "markdown",
   "metadata": {},
   "source": [
    "### Functional Programming in Python"
   ]
  },
  {
   "cell_type": "markdown",
   "metadata": {},
   "source": [
    "### Testing and Validation"
   ]
  },
  {
   "cell_type": "markdown",
   "metadata": {},
   "source": [
    "### Optimization and Performance Analysis\n"
   ]
  },
  {
   "cell_type": "markdown",
   "metadata": {},
   "source": [
    "### Results, Discussion, and Future Directions"
   ]
  },
  {
   "cell_type": "markdown",
   "metadata": {},
   "source": [
    "### Conclusion"
   ]
  },
  {
   "cell_type": "markdown",
   "metadata": {},
   "source": [
    "## <span style=\"color: black;\">References</span>\n",
    "\n",
    "1. https://www.ibm.com/topics/quantum-computing <span style=\"color: black;\">Understanding Quantum Computing</span>"
   ]
  }
 ],
 "metadata": {
  "kernelspec": {
   "display_name": "base",
   "language": "python",
   "name": "python3"
  },
  "language_info": {
   "codemirror_mode": {
    "name": "ipython",
    "version": 3
   },
   "file_extension": ".py",
   "mimetype": "text/x-python",
   "name": "python",
   "nbconvert_exporter": "python",
   "pygments_lexer": "ipython3",
   "version": "3.11.7"
  }
 },
 "nbformat": 4,
 "nbformat_minor": 2
}
