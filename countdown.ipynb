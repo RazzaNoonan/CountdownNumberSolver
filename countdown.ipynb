{
 "cells": [
  {
   "cell_type": "markdown",
   "metadata": {},
   "source": [
    "# Welcome to My Countdown Solver Project\n",
    "### By Ronan Noonan student number G00384824 \n",
    "### Atlantic Technological University \n",
    "<hr>"
   ]
  },
  {
   "cell_type": "markdown",
   "metadata": {},
   "source": [
    "## Introduction\n",
    "\n",
    "The goal of this project is to provide a Python answer for the \"Numbers Round\" in the television show Countdown. In order to address this issue, Computational theories and paradigms will be examined. The goal is to show that it is possible to recognize difficult issues, defining computation models, and creating effective algorithms.\n",
    "<hr>\n"
   ]
  },
  {
   "cell_type": "markdown",
   "metadata": {},
   "source": [
    "## Understanding the Countdown Numbers Game\n",
    "\n",
    "The Countdown Numbers Game involves selecting six numbers and a target number. The goal is to use arithmetic operations (addition, subtraction, multiplication, and division) on the six numbers to reach the target number. The challenge lies in the constraints: each of the six numbers can be used at most once, and operations must result in whole numbers.\n",
    "<hr>"
   ]
  },
  {
   "cell_type": "markdown",
   "metadata": {},
   "source": [
    "## Approach to Solving the Game\n",
    "\n",
    "The approach will involve exploring various algorithmic designs to efficiently solve the game. This will likely include generating combinations of numbers and operations, evaluating these combinations against the target number, and optimizing the search for solutions. Utilizing Reverse Polish Notation (RPN) for efficient evaluation of mathematical expressions will be a key part of the strategy.\n",
    "<hr>"
   ]
  },
  {
   "cell_type": "code",
   "execution_count": null,
   "metadata": {},
   "outputs": [],
   "source": [
    "# Python code placeholder for the solve_numbers function\n",
    "def solve_numbers(numbers, target):\n",
    "\n",
    "    # that takes any such list of six numbers and a target number, \n",
    "    # and returns at least one solution if it exists. In some cases \n",
    "    # a solution might not exist, in which case the function should return None. \n",
    "    # Alternatively, if you are feeling confident, your function can return a \n",
    "    # calculation that is within 5 either side of the target number - the closer, the better.\n",
    "    \n",
    "    # Parameters:\n",
    "    # - numbers: List[int], the six numbers available to use.\n",
    "    # - target: int, the target number to reach.\n",
    "    \n",
    "    # Placeholder for the algorithm\n",
    "    return None #A string representation of the solution, or None if no solution is found.\n",
    "\n",
    "# Example usage\n",
    "numbers_list = [1, 2, 3, 4, 5, 6]  # Example of numbers will be replaced by acctual numbers\n",
    "target_number = 100  # And this will have the actual target number\n",
    "print(solve_numbers(numbers_list, target_number))\n"
   ]
  }
 ],
 "metadata": {
  "kernelspec": {
   "display_name": "base",
   "language": "python",
   "name": "python3"
  },
  "language_info": {
   "codemirror_mode": {
    "name": "ipython",
    "version": 3
   },
   "file_extension": ".py",
   "mimetype": "text/x-python",
   "name": "python",
   "nbconvert_exporter": "python",
   "pygments_lexer": "ipython3",
   "version": "3.11.7"
  }
 },
 "nbformat": 4,
 "nbformat_minor": 2
}
