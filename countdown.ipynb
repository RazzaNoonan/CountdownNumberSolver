{
 "cells": [
  {
   "cell_type": "markdown",
   "metadata": {},
   "source": [
    "# Welcome to My Countdown Solver Project\n",
    "### By Ronan Noonan student number G00384824 \n",
    "### Atlantic Technological University \n",
    "<hr>\n"
   ]
  },
  {
   "cell_type": "markdown",
   "metadata": {},
   "source": [
    "## Introduction\n",
    "\n",
    "Welcome to my computational investigation of the classic numbers game from *Countdown*. The goal is to share my experience approaching a real-world problem using algorithmic solutions, as well as to demonstrate my grasp and application of computational theory.\n"
   ]
  },
  {
   "cell_type": "markdown",
   "metadata": {},
   "source": [
    "### Objectives\n",
    "\n",
    "The primary objectives of this project are to:\n",
    "\n",
    "1. **Identify difficult computational problems** inherent in everyday computing, exemplified by the Countdown numbers game.\n",
    "2. **Define the common models of computation** and discuss their relevance to solving the Countdown problem.\n",
    "3. **Design computer programs** that utilize a variety of computational paradigms to solve the numbers game.\n",
    "4. **Analyse the complexity of algorithms** designed to find solutions to the Countdown game, optimizing for efficiency and accuracy.\n",
    "\n",
    "In pursuing these objectives, we investigate basic principles of computational problems, explore algorithmic design and complexity analysis, and finally, implement a solution in Python. This paper documents my research as well as provides guidance for anyone who are curious about the computational features of the game.\n"
   ]
  },
  {
   "cell_type": "markdown",
   "metadata": {},
   "source": [
    "### Approach\n",
    "In order to comprehend the computational difficulty that the Countdown numbers game poses, there must be a  thorough examination of its rules and structure while looking at the basic concepts of computation with an emphasis on models and complexity. Integrating key concepts discussed in class, such as Reverse Polish Notation, Infix Notation, and Functional Programming before turning the attention to the actual process of creating a solution where then reflecting on its performance and potential areas for future research.\n"
   ]
  },
  {
   "cell_type": "markdown",
   "metadata": {},
   "source": [
    "## Understanding the Countdown Numbers Game\n",
    "\n",
    "### Game Rules\n",
    "The Countdown Numbers Game is an exercise in numerical agility, where contestants must reach a target number using a combination of six chosen numbers through basic arithmetic operations. This game emphasizes precision and strategic thinking, adhering to rules that enforce single-use and whole number results.\n",
    "\n",
    "- **Number Selection**: Each contestant is given six numbers, chosen randomly from a predefined set. This set includes two groups of numbers:\n",
    "  - Small numbers: Two sets of the integers from 1 to 10.\n",
    "  - Large numbers: One set of the numbers 25, 50, 75, and 100.\n",
    "- **Target Number**: A random target number is generated, ranging from 101 to 999.\n",
    "- **Objective**: Using the six chosen numbers and the four basic arithmetic operations (addition, subtraction, multiplication, and division), contestants must reach the target number, or get as close as possible within 30 seconds.\n",
    "- **Constraints**:\n",
    "  - Each of the six numbers can be used at most once in the calculation.\n",
    "  - Operations must result in whole numbers. Fractions are not allowed.\n",
    "  - Only positive results are allowed for subtraction operations.\n",
    "\n",
    "The rules require a careful choice and arrangement of actions, testing participants' capacity to strategize in stressful situations and adjust to the arithmetic constraints presented."
   ]
  },
  {
   "cell_type": "markdown",
   "metadata": {},
   "source": [
    "<a href=\"https://en.wikipedia.org/wiki/Countdown_(game_show)\" style=\"color: black;\">**(1) Understanding the Countdown Numbers Game** _wikipedia_</a>\n"
   ]
  },
  {
   "cell_type": "markdown",
   "metadata": {},
   "source": [
    "### Computational Challenge\n",
    "\n",
    "The Countdown Numbers Game is a mix of math puzzles and strategy. Looking throught the lens of Simon Colton's work reveals how deeply this game dives into mathematical and computational concepts. It challenges players to find solutions within a tight set of rules, using a mix of counting and arranging, algorithmic search techniques, and understanding the complexity of computations. Colton's approach to finding the best solutions for millions of these puzzles highlights the game's complexity and how it bridges the gap between human thinking and computer algorithms. "
   ]
  },
  {
   "cell_type": "markdown",
   "metadata": {},
   "source": [
    "<a href=\"https://doc.gold.ac.uk/aisb50/AISB50-S02/AISB50-S2-Colton-paper.pdf\" style=\"color: black;\">**(2) Countdown Numbers Game: Solved, Analysed, Extended** _Simon Colton_</a>\n"
   ]
  },
  {
   "cell_type": "markdown",
   "metadata": {},
   "source": [
    "### The Task at Hand\n",
    "\n",
    "The main goal is to create and refine an algorithm that can successfully tackle the Countdown numbers game. This task unfolds across three key activities:\n",
    "\n",
    "1. **Generating Possible Solutions**: Exploring the space of possible arithmetic operations that can be performed with the given numbers.\n",
    "2. **Evaluating Solutions**: Assessing each potential solution to determine if it meets the target number or comes closest to it.\n",
    "3. **Optimizing Performance**: Considering the computational complexity of the problem, finding efficient algorithms is crucial to solving the game within a reasonable time frame.\n",
    "   "
   ]
  },
  {
   "cell_type": "markdown",
   "metadata": {},
   "source": [
    "## Theoretical Framework\n",
    "This section looks into the theoretical concepts and computational procedures that form the foundation of the approach to solving the Countdown Numbers Game. Understanding these models aids in creating efficient algorithms and clarifies the computational reasoning involved.\n",
    "\n",
    "### Common Models of Computation:\n",
    "**1. Reverse Polish Notation (RPN):** RPN is a mathematical notation in which every operator follows all of its operands, eliminating the need for parentheses that are required by infix notation. Applying RPN in solving the Countdown game simplifies the computation process, as it allows for the direct evaluation of expressions using a stack-based approach. This model is particularly effective in environments that support stack operations, facilitating straightforward arithmetic operations.\n",
    "\n",
    "**2. Infix Notation:** Infix notation, on the other hand, puts operators between operands. It is easier for humans to understand, but computers need more complicated parsing algorithms to evaluate it. Understanding and using this can make interfaces easier for people to use where expressions are typed in normally but are handled quickly in the background.\n",
    "\n",
    "**3. Functional Programming:** This approach focuses on using functions that don't change state or changeable data, which makes it perfect for handling the Countdown game's complex state-dependent calculations. Focusing on pure functions helps ensure that the solution tool has no side effects, which makes testing and debugging easier. Functional programming also makes high-level operations like map and reduce easier. These operations elegantly describe making combinations and comparing them to the goal number.\n",
    "\n",
    "By adding these models, the algorithm not only works better, it also becomes more stable and easy to keep, so it can handle the Countdown Numbers Game's many changing challenges. We'll see how these models help handle and improve the problem-solving process as we look into how hard it is to compute.\n"
   ]
  },
  {
   "cell_type": "markdown",
   "metadata": {},
   "source": [
    "<a href=\"https://mathworld.wolfram.com/ReversePolishNotation.html\" style=\"color: black;\">**(3) Reverse Polish Notation** _Wolfram MathWorld_</a> \n",
    "<br>\n",
    "<a href=\"https://www.thealgorists.com/Algo/Infix\" style=\"color: black;\">**(4) Infix Expression Evaluation** _The Algorists_</a> \n",
    "<br>\n",
    "<a href=\"https://www.freecodecamp.org/news/an-introduction-to-the-basic-principles-of-functional-programming-a2c2a15c84/\" style=\"color: black;\">**(5) An Introduction to the basic principles of Functional Programming** _freecodecamp_</a>\n",
    "\n",
    "   "
   ]
  },
  {
   "cell_type": "markdown",
   "metadata": {},
   "source": [
    "### Computational Complexity of the Game\n",
    "The Countdown Numbers Game's complexity is significant due to its similarities with the NP-hard subset sum problem . This complexity comes from the need to investigate several number and operation combinations in order to get a desired number.\n",
    "\n",
    "In computational theory, a subset sum problem is an NP-hard problem if it is as tricky as the most complex problems in NP and there isn't an effective solution for every scenario. This illustrates the difficulty of such challenges by being similar to the Countdown challenge, in which participants use particular numbers and processes to attain an objective.\n",
    "\n",
    "1. **Brute Force Approach:** The simplest approach would assess each possible combination of operations between the selected numbers. The more numbers or operations added, the more computationally demanding this strategy becomes.\n",
    "\n",
    "2. **Optimized Techniques:** Algorithms can use techniques like backtracking to remove unfavourable paths and strategic rules to rank operations in order of potential speed at which the goal number can be reached to manage complexity efficiently.\n",
    "   \n",
    "3. **Practical Efficiency:** Balancing computational complexity with practical execution times is essential. Techniques such as memoization or dynamic programming optimize calculations by storing intermediate results for reuse, thereby enhancing performance.\n",
    "\n",
    "Understanding the computational complexity is important as it influences algorithm design, ensuring that the algorithms are both successful and efficient. It draws attention to the need for calculated strategic adjustments that reduce the difficulty of playing the Countdown game to a manageable task with realistic time constraints. As we move forward, these insights will guide the development of the solve_numbers function, ensuring it is both theoretically sound but also practically viable."
   ]
  },
  {
   "cell_type": "markdown",
   "metadata": {},
   "source": [
    "<a href=\"https://doc.gold.ac.uk/aisb50/AISB50-S02/AISB50-S2-Colton-paper.pdf\" style=\"color: black;\">**(2) Countdown Numbers Game: Solved, Analysed, Extended** _Simon Colton_</a>\n",
    "<br>\n",
    "<a href=\"https://en.wikipedia.org/wiki/NP-hardness\" style=\"color: black;\">**(6) NP-hard and the subset sum problem** _Wikipedia_</a> \n",
    "<br>\n",
    "<a href=\"https://www.geeksforgeeks.org/backtracking-algorithms/\" style=\"color: black;\">**(7) NP-hard and the subset sum problem** _GeeksForGeeks_</a> \n"
   ]
  },
  {
   "cell_type": "markdown",
   "metadata": {},
   "source": [
    "## Approach and Methodology\n",
    "In order to solve the Countdown numbers game its important to look at the algorithmic foundations for the solve_numbers. Outlining the transition of the game into a digital algorithm, highlight key input parameters, and talk about how functional programming was used in conjunction with Reverse Polish Notation (RPN) to come up with a workable solution."
   ]
  },
  {
   "cell_type": "markdown",
   "metadata": {},
   "source": [
    "#### Translating Countdown to a Program\n",
    "#### Input Parameters\n",
    "\n",
    "* **Number Selection:** The method chooses numbers at random from the number pools, which include tiny numbers (two sets of 1–10) and large numbers (25, 50, 75, 100). This can be changed, although often it has two big numerals and four little numbers.\n",
    "* **Target Number Generation:** The target number, which provides the algorithm's objective, is created at random from 101 to 999."
   ]
  },
  {
   "cell_type": "code",
   "execution_count": 23,
   "metadata": {},
   "outputs": [
    {
     "name": "stdout",
     "output_type": "stream",
     "text": [
      "Selected numbers: [2, 1, 8, 1, 50, 75]\n",
      "Target number: 273\n"
     ]
    }
   ],
   "source": [
    "import random\n",
    "\n",
    "# Function to select numbers\n",
    "def select_numbers():\n",
    "    small_numbers = [i for i in range(1, 11) for _ in range(2)]  # Small numbers twice\n",
    "    large_numbers = [25, 50, 75, 100]  # Large numbers once\n",
    "\n",
    "    chosen_small = random.sample(small_numbers, 4)\n",
    "    chosen_large = random.sample(large_numbers, 2)\n",
    "\n",
    "    return chosen_small + chosen_large\n",
    "\n",
    "# Function to generate target number\n",
    "def generate_target():\n",
    "    return random.randint(101, 999)\n",
    "\n",
    "# Example of selecting numbers and generating target\n",
    "numbers = select_numbers()\n",
    "target = generate_target()\n",
    "print(\"Selected numbers:\", numbers)\n",
    "print(\"Target number:\", target)\n"
   ]
  },
  {
   "cell_type": "markdown",
   "metadata": {},
   "source": [
    "#### Game Rules\n",
    "* **Single Use of Numbers:** There is only one usage of each number in the calculation.\n",
    "* **Valid Operations:** The operations allowed are addition, subtraction (only positive results), and multiplication, along with division (integral results only)."
   ]
  },
  {
   "cell_type": "markdown",
   "metadata": {},
   "source": [
    "#### Functional Programming and Reverse Polish Notation\n",
    "#### Functional Programming"
   ]
  },
  {
   "cell_type": "markdown",
   "metadata": {},
   "source": [
    "Python functional programming improves code readability and maintainability by utilizing higher-order functions and immutability.\n",
    "* **Immutability:** Guarantees that after they are created, data structures are not altered. A new data structure is created and returned by any function that processes data without changing the original.\n",
    "* **Higher-Order Functions:** In order to promote code reuse and simplification, these methods either return functions as outputs or accept other functions as inputs."
   ]
  },
  {
   "cell_type": "code",
   "execution_count": 24,
   "metadata": {},
   "outputs": [
    {
     "name": "stdout",
     "output_type": "stream",
     "text": [
      "Doubled numbers: [4, 2, 16, 2, 100, 150]\n"
     ]
    }
   ],
   "source": [
    "# Example of using map (a higher-order function) to apply a function to numbers\n",
    "numbers_doubled = list(map(lambda x: x * 2, numbers))\n",
    "print(\"Doubled numbers:\", numbers_doubled)\n"
   ]
  },
  {
   "cell_type": "markdown",
   "metadata": {},
   "source": [
    "#### Reverse Polish Notation\n",
    "By removing the requirement for operator precedence and parentheses and utilizing a stack-based evaluation technique that is perfect for programmatically solving mathematical equations, RPN streamlines the computational logic.\n",
    "\n",
    "* **Benefits:** minimizes computational mistakes associated with operation order, streamlines parsing procedures, and makes effective use of memory."
   ]
  },
  {
   "cell_type": "code",
   "execution_count": 25,
   "metadata": {},
   "outputs": [
    {
     "name": "stdout",
     "output_type": "stream",
     "text": [
      "Result of RPN expression '3 4 + 2 *': 14\n"
     ]
    }
   ],
   "source": [
    "# Function to evaluate RPN expressions\n",
    "def evaluate_rpn(expression):\n",
    "    stack = []\n",
    "    for token in expression.split():\n",
    "        if token in \"+-*/\":\n",
    "            b, a = stack.pop(), stack.pop()\n",
    "            if token == '+':\n",
    "                stack.append(a + b)\n",
    "            elif token == '-':\n",
    "                stack.append(a - b)\n",
    "            elif token == '*':\n",
    "                stack.append(a * b)\n",
    "            elif token == '/':\n",
    "                stack.append(a // b)  # Ensure integer division\n",
    "        else:\n",
    "            stack.append(int(token))\n",
    "    return stack.pop()\n",
    "\n",
    "# Example RPN expression and its evaluation\n",
    "rpn_expression = \"3 4 + 2 *\"\n",
    "result = evaluate_rpn(rpn_expression)\n",
    "print(\"Result of RPN expression '{}': {}\".format(rpn_expression, result))\n"
   ]
  },
  {
   "cell_type": "markdown",
   "metadata": {},
   "source": [
    "<a href=\"https://www.ttested.com/polish-countdown/\" style=\"color: black;\">**(8) A Polish Approach to Countdown** _Tested_</a> "
   ]
  },
  {
   "cell_type": "markdown",
   "metadata": {},
   "source": [
    "#### Algorithm Design\n",
    "The core of 'solve_numbers' mixes functional programming to provide modularity and reusability with RPN for effective mathematical assessments. The technique uses RPN instead of infix notation, which avoids complications and allows for efficient left-to-right expression processing without the need for parenthesis."
   ]
  },
  {
   "cell_type": "markdown",
   "metadata": {},
   "source": [
    "<!-- #### Optimization Techniques\n",
    "* **Early Termination & Validation:** Sequences violating game rules are terminated early to conserve resources.\n",
    "* **Random Number Generation:** Ensures varied inputs for comprehensive testing.\n",
    "* **Comprehensive** Solution Generation: Utilizes combinations of functional programming techniques to explore all possible solutions. -->"
   ]
  },
  {
   "cell_type": "code",
   "execution_count": 26,
   "metadata": {},
   "outputs": [
    {
     "name": "stdout",
     "output_type": "stream",
     "text": [
      "Found solutions: []\n"
     ]
    }
   ],
   "source": [
    "# from itertools import product\n",
    "\n",
    "# # Function to generate all valid solutions close to the target\n",
    "# def generate_solutions(numbers, target):\n",
    "#     operations = ['+', '-', '*', '/']\n",
    "#     all_expressions = []\n",
    "\n",
    "#     # Generate expressions using product to combine numbers and operations\n",
    "#     for ops in product(operations, repeat=len(numbers)-1):\n",
    "#         for nums in permutations(numbers):\n",
    "#             expression = []\n",
    "#             for num, op in zip(nums, ops):\n",
    "#                 expression.append(str(num))\n",
    "#                 expression.append(op)\n",
    "#             expression.append(str(nums[-1]))  # Append the last number\n",
    "#             all_expressions.append(' '.join(expression))\n",
    "\n",
    "#     valid_solutions = [expr for expr in all_expressions if try_evaluate_rpn(expr, target)]\n",
    "#     return valid_solutions\n",
    "\n",
    "# def try_evaluate_rpn(expression, target):\n",
    "#     try:\n",
    "#         return evaluate_rpn(expression) == target\n",
    "#     except:\n",
    "#         return False  # Handle errors from division by zero or invalid operations\n",
    "\n",
    "# # Example usage\n",
    "# numbers = [1, 3, 25, 50, 75, 100]  # Example number set\n",
    "# target = 952  # Example target\n",
    "# possible_solutions = generate_solutions(numbers, target)\n",
    "# print(\"Found solutions:\", possible_solutions[:5])  # Print first 5 solutions\n"
   ]
  },
  {
   "cell_type": "code",
   "execution_count": null,
   "metadata": {},
   "outputs": [],
   "source": []
  },
  {
   "cell_type": "markdown",
   "metadata": {},
   "source": [
    "### Testing and Validation\n"
   ]
  },
  {
   "cell_type": "markdown",
   "metadata": {},
   "source": [
    "### Optimization and Performance Analysis\n"
   ]
  },
  {
   "cell_type": "markdown",
   "metadata": {},
   "source": [
    "### Results, Discussion, and Future Directions\n"
   ]
  },
  {
   "cell_type": "markdown",
   "metadata": {},
   "source": [
    "### Conclusion\n"
   ]
  },
  {
   "cell_type": "markdown",
   "metadata": {},
   "source": [
    "## <span style=\"color: black;\">References</span>\n",
    "\n",
    "1. https://en.wikipedia.org/wiki/Countdown_(game_show) <span style=\"color: black;\">Understanding the Countdown Numbers Game</span>\n",
    "2. https://doc.gold.ac.uk/aisb50/AISB50-S02/AISB50-S2-Colton-paper.pdf <span style=\"color: black;\">Countdown Numbers Game: Solved, Analysed, Extended</span>\n",
    "3. mathworld.wolfram.com/ReversePolishNotation.html <span style=\"color: black;\">Reverse Polish Notation</span>\n",
    "4. https://www.thealgorists.com/Algo/Infix <span style=\"color: black;\">Infix Expression Evaluation</span>\n",
    "5. https://www.freecodecamp.org/news/an-introduction-to-the-basic-principles-of-functional-programming-a2c2a15c84/ <span style=\"color: black;\">An Introduction to the basic principles of Functional Programming</span>\n",
    "6. https://en.wikipedia.org/wiki/NP-hardness <span style=\"color: black;\">NP-hard and the subset sum problem</span>\n",
    "7. https://www.geeksforgeeks.org/backtracking-algorithms/ <span style=\"color: black;\"><span style=\"color: black;\">NP-hard and the subset sum problem</span></span>\n",
    "8. https://www.ttested.com/polish-countdown/ <span style=\"color: black;\"><span style=\"color: black;\">A Polish Approach to Countdown</span></span>\n",
    "\n",
    "\n"
   ]
  }
 ],
 "metadata": {
  "kernelspec": {
   "display_name": "base",
   "language": "python",
   "name": "python3"
  },
  "language_info": {
   "codemirror_mode": {
    "name": "ipython",
    "version": 3
   },
   "file_extension": ".py",
   "mimetype": "text/x-python",
   "name": "python",
   "nbconvert_exporter": "python",
   "pygments_lexer": "ipython3",
   "version": "3.11.7"
  }
 },
 "nbformat": 4,
 "nbformat_minor": 2
}
