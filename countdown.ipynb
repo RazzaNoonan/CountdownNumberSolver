{
 "cells": [
  {
   "cell_type": "markdown",
   "metadata": {},
   "source": [
    "# Welcome to My Countdown Solver Project\n",
    "### By Ronan Noonan student number G00384824 \n",
    "### Atlantic Technological University \n",
    "<hr>"
   ]
  },
  {
   "cell_type": "markdown",
   "metadata": {},
   "source": [
    "## Introduction\n",
    "\n",
    "Welcome to my computational investigation of the classic numbers game from *Countdown*. The goal is to share my experience approaching a real-world problem using algorithmic solutions, as well as to demonstrate my grasp and application of computational theory."
   ]
  },
  {
   "cell_type": "markdown",
   "metadata": {},
   "source": [
    "### Objectives\n",
    "\n",
    "The primary objectives of this project are to:\n",
    "\n",
    "1. **Identify difficult computational problems** inherent in everyday computing, exemplified by the Countdown numbers game.\n",
    "2. **Define the common models of computation** and discuss their relevance to solving the Countdown problem.\n",
    "3. **Design computer programs** that utilize a variety of computational paradigms to solve the numbers game.\n",
    "4. **Analyse the complexity of algorithms** designed to find solutions to the Countdown game, optimizing for efficiency and accuracy.\n",
    "\n",
    "In pursuing these objectives, we investigate basic principles of computational problems, explore algorithmic design and complexity analysis, and finally, implement a solution in Python. This paper documents my research as well as provides guidance for anyone who are curious about the computational features of the game."
   ]
  },
  {
   "cell_type": "markdown",
   "metadata": {},
   "source": [
    "### Approach\n",
    "In order to comprehend the computational difficulty that the Countdown numbers game poses, there must be a  thorough examination of its rules and structure while looking at the basic concepts of computation with an emphasis on models and complexity. Integrating key concepts discussed in class, such as Reverse Polish Notation, Infix Notation, and Functional Programming before turning the attention to the actual process of creating a solution where then reflecting on its performance and potential areas for future research."
   ]
  },
  {
   "cell_type": "markdown",
   "metadata": {},
   "source": [
    "## Understanding the Countdown Numbers Game\n",
    "\n",
    "### Game Rules\n",
    "The Countdown Numbers Game is an exercise in numerical agility, where contestants must reach a target number using a combination of six chosen numbers through basic arithmetic operations, Following to the rules of single-use and whole number results.\n",
    "\n",
    "- **Number Selection**: Each contestant is given six numbers, chosen randomly from a predefined set. This set includes two groups of numbers:\n",
    "  - Small numbers: Two sets of the integers from 1 to 10.\n",
    "  - Large numbers: One set of the numbers 25, 50, 75, and 100.\n",
    "- **Target Number**: A random target number is generated, ranging from 101 to 999.\n",
    "- **Objective**: Using the six chosen numbers and the four basic arithmetic operations (addition, subtraction, multiplication, and division), contestants must reach the target number, or get as close as possible within 30 seconds.\n",
    "- **Constraints**:\n",
    "  - Each of the six numbers can be used at most once in the calculation.\n",
    "  - Operations must result in whole numbers. Fractions are not allowed.\n",
    "  - Only positive results are allowed for subtraction operations."
   ]
  },
  {
   "cell_type": "markdown",
   "metadata": {},
   "source": [
    "<a href=\"https://en.wikipedia.org/wiki/Countdown_(game_show)\" style=\"color: black;\">**(1) Understanding the Countdown Numbers Game** _wikipedia_</a>"
   ]
  },
  {
   "cell_type": "markdown",
   "metadata": {},
   "source": [
    "### Computational Challenge\n",
    "\n",
    "The Countdown Numbers Game is a mix of math puzzles and strategy. Looking throught the lens of Simon Colton's work reveals how deeply this game dives into mathematical and computational concepts. It challenges players to find solutions within a tight set of rules, using a mix of counting and arranging, algorithmic search techniques, and understanding the complexity of computations. Colton's approach to finding the best solutions for millions of these puzzles highlights the game's complexity and how it bridges the gap between human thinking and computer algorithms. "
   ]
  },
  {
   "cell_type": "markdown",
   "metadata": {},
   "source": [
    "<a href=\"https://doc.gold.ac.uk/aisb50/AISB50-S02/AISB50-S2-Colton-paper.pdf\" style=\"color: black;\">**(2) Countdown Numbers Game: Solved, Analysed, Extended** _Simon Colton_</a>"
   ]
  },
  {
   "cell_type": "markdown",
   "metadata": {},
   "source": [
    "### The Task at Hand\n",
    "\n",
    "The main goal is to create and refine an algorithm that can successfully tackle the Countdown numbers game. This task unfolds across three key activities:\n",
    "\n",
    "1. **Generating Possible Solutions**: Exploring the space of possible arithmetic operations that can be performed with the given numbers.\n",
    "2. **Evaluating Solutions**: Assessing each potential solution to determine if it meets the target number or comes closest to it.\n",
    "3. **Optimizing Performance**: Considering the computational complexity of the problem, finding efficient algorithms is crucial to solving the game within a reasonable time frame."
   ]
  },
  {
   "cell_type": "markdown",
   "metadata": {},
   "source": [
    "### Theoretical Framework\n",
    "#### Common Models of Computation:\n",
    "\n"
   ]
  },
  {
   "cell_type": "markdown",
   "metadata": {},
   "source": [
    "#### Computational Complexity of the Game\n",
    "\n",
    "\n"
   ]
  },
  {
   "cell_type": "markdown",
   "metadata": {},
   "source": [
    "\n"
   ]
  },
  {
   "cell_type": "markdown",
   "metadata": {},
   "source": [
    "## Previous Approaches\n",
    "\n"
   ]
  },
  {
   "cell_type": "markdown",
   "metadata": {},
   "source": [
    "#### Building on Existing Work\n",
    "\n",
    "\n"
   ]
  },
  {
   "cell_type": "markdown",
   "metadata": {},
   "source": [
    "### Algorithm Design and Implementation\n",
    "\n",
    "#### Algorithmic Strategies Considered\n",
    "\n"
   ]
  },
  {
   "cell_type": "markdown",
   "metadata": {},
   "source": [
    "#### Reverse Polish Notation"
   ]
  },
  {
   "cell_type": "markdown",
   "metadata": {},
   "source": [
    "#### Infix Notation"
   ]
  },
  {
   "cell_type": "markdown",
   "metadata": {},
   "source": [
    "#### Functional Programming"
   ]
  },
  {
   "cell_type": "code",
   "execution_count": 2,
   "metadata": {},
   "outputs": [
    {
     "name": "stdout",
     "output_type": "stream",
     "text": [
      "Trying to reach 952 using numbers [1, 3, 25, 50, 75, 100]:\n",
      "Solution: None\n",
      "\n",
      "Trying to reach 556 using numbers [2, 4, 6, 8, 10, 100]:\n",
      "Solution: None\n",
      "\n",
      "None\n"
     ]
    }
   ],
   "source": [
    "# Python function to implement the solve_numbers logic\n",
    "def solve_numbers(numbers, target):\n",
    "    \"\"\"\n",
    "    This function attempts to find a combination of the given numbers using arithmetic operations\n",
    "    to reach the target number. If a solution exists, it returns a representation of the solution;\n",
    "    otherwise, it returns None.\n",
    "    \n",
    "    Parameters:\n",
    "    - numbers: List[int], the six numbers available to use.\n",
    "    - target: int, the target number to reach.\n",
    "    \n",
    "    Returns:\n",
    "    - A string representation of the solution, or None if no solution is found.\n",
    "    \"\"\"\n",
    "    \n",
    "    # [Implementation of the algorithm will be added here]\n",
    "\n",
    "    return None  # Placeholder return\n",
    "\n",
    "# Test cases for the solve_numbers function\n",
    "test_cases = [\n",
    "    ([1, 3, 25, 50, 75, 100], 952),\n",
    "    ([2, 4, 6, 8, 10, 100], 556),\n",
    "    # Additional test cases will be added here\n",
    "]\n",
    "\n",
    "for numbers, target in test_cases:\n",
    "    print(f\"Trying to reach {target} using numbers {numbers}:\")\n",
    "    solution = solve_numbers(numbers, target)\n",
    "    print(f\"Solution: {solution}\\n\")\n",
    "\n",
    "# Example usage\n",
    "# This will be replaced with actual numbers in tests\n",
    "numbers_list = [1, 2, 3, 4, 5, 6]\n",
    "target_number = 100\n",
    "print(solve_numbers(numbers_list, target_number))\n"
   ]
  },
  {
   "cell_type": "markdown",
   "metadata": {},
   "source": [
    "### Functional Programming in Python - (Maybe will talk about in detail)"
   ]
  },
  {
   "cell_type": "markdown",
   "metadata": {},
   "source": [
    "### Testing and Validation"
   ]
  },
  {
   "cell_type": "markdown",
   "metadata": {},
   "source": [
    "### Optimization and Performance Analysis\n"
   ]
  },
  {
   "cell_type": "markdown",
   "metadata": {},
   "source": [
    "### Results, Discussion, and Future Directions"
   ]
  },
  {
   "cell_type": "markdown",
   "metadata": {},
   "source": [
    "### Conclusion"
   ]
  },
  {
   "cell_type": "markdown",
   "metadata": {},
   "source": [
    "## <span style=\"color: black;\">References</span>\n",
    "\n",
    "1. https://en.wikipedia.org/wiki/Countdown_(game_show) <span style=\"color: black;\">Understanding the Countdown Numbers Game</span>\n",
    "1. https://doc.gold.ac.uk/aisb50/AISB50-S02/AISB50-S2-Colton-paper.pdf <span style=\"color: black;\">Countdown Numbers Game: Solved, Analysed, Extended</span>\n"
   ]
  }
 ],
 "metadata": {
  "kernelspec": {
   "display_name": "base",
   "language": "python",
   "name": "python3"
  },
  "language_info": {
   "codemirror_mode": {
    "name": "ipython",
    "version": 3
   },
   "file_extension": ".py",
   "mimetype": "text/x-python",
   "name": "python",
   "nbconvert_exporter": "python",
   "pygments_lexer": "ipython3",
   "version": "3.11.7"
  }
 },
 "nbformat": 4,
 "nbformat_minor": 2
}
